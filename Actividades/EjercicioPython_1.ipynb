{
  "nbformat": 4,
  "nbformat_minor": 0,
  "metadata": {
    "colab": {
      "provenance": []
    },
    "kernelspec": {
      "name": "python3",
      "display_name": "Python 3"
    },
    "language_info": {
      "name": "python"
    }
  },
  "cells": [
    {
      "cell_type": "markdown",
      "source": [
        "Actividad 2: Diseño de algoritmos en Python\n",
        "\n",
        "José Eduardo Salazar Arellano\n",
        "\n",
        "2109211\n",
        "\n",
        "Grupo:006   Hora: jueves N4-N6"
      ],
      "metadata": {
        "id": "5Na3_iQulWaa"
      }
    },
    {
      "cell_type": "code",
      "source": [
        "#Desarrolla un algoritmo que le pida al usuario por su nombre y que lo salude con su nombre, excepto si se llama “Ana”, “Juan”, y “Pedro”.\n",
        "nombre = input(\"Ingrese su nombre: \")\n",
        "\n",
        "if nombre.lower() in ['ana', 'juan', 'pedro']:\n",
        "    print(\"Hola, persona especial!\")\n",
        "else:\n",
        "    print(f\"Hola, {nombre}!\")\n"
      ],
      "metadata": {
        "id": "DmJOaP8OmY-r",
        "colab": {
          "base_uri": "https://localhost:8080/"
        },
        "outputId": "9abf1504-d33b-4807-eced-fc31d5265ab6"
      },
      "execution_count": 1,
      "outputs": [
        {
          "output_type": "stream",
          "name": "stdout",
          "text": [
            "Ingrese su nombre: Eduardo\n",
            "Hola, Eduardo!\n"
          ]
        }
      ]
    },
    {
      "cell_type": "code",
      "source": [
        "#Desarrolla un algoritmo que por medio de una función, le pida al usuario una lista de N elementos y como resultado invierta el sentido de la lista.\n",
        "def invertir_lista():\n",
        "    n = int(input(\"Ingrese la cantidad de elementos en la lista: \"))\n",
        "    lista = []\n",
        "\n",
        "    for i in range(n):\n",
        "        elemento = input(f\"Ingrese el elemento {i+1}: \")\n",
        "        lista.append(elemento)\n",
        "\n",
        "    lista_invertida = lista[::-1]\n",
        "    return lista_invertida\n",
        "\n",
        "resultado = invertir_lista()\n",
        "print(\"Lista original:\", resultado)"
      ],
      "metadata": {
        "id": "VfmuzFgfnCTP",
        "colab": {
          "base_uri": "https://localhost:8080/"
        },
        "outputId": "09e61668-93f4-4bcb-c35d-bab8e5f2b55a"
      },
      "execution_count": 2,
      "outputs": [
        {
          "output_type": "stream",
          "name": "stdout",
          "text": [
            "Ingrese la cantidad de elementos en la lista: 4\n",
            "Ingrese el elemento 1: papa\n",
            "Ingrese el elemento 2: cebolla\n",
            "Ingrese el elemento 3: tomate\n",
            "Ingrese el elemento 4: salchicha\n",
            "Lista original: ['salchicha', 'tomate', 'cebolla', 'papa']\n"
          ]
        }
      ]
    },
    {
      "cell_type": "code",
      "source": [
        "#Desarrolla un algoritmo que le pregunte al usuario cuántos números de la serie de Fibonacci quiere generar y que al final los imprima.\n",
        "def generar_fibonacci(n):\n",
        "    fibonacci = [0, 1]\n",
        "\n",
        "    for i in range(2, n):\n",
        "        fibonacci.append(fibonacci[i-1] + fibonacci[i-2])\n",
        "\n",
        "    return fibonacci\n",
        "\n",
        "cantidad = int(input(\"Ingrese cuántos números de la serie Fibonacci desea generar: \"))\n",
        "resultado_fibonacci = generar_fibonacci(cantidad)\n",
        "print(\"Serie de Fibonacci:\", resultado_fibonacci)"
      ],
      "metadata": {
        "id": "akaoJOYpnj_z",
        "colab": {
          "base_uri": "https://localhost:8080/"
        },
        "outputId": "d0e3d561-ebd0-4bf4-923b-50e14e3214e6"
      },
      "execution_count": 3,
      "outputs": [
        {
          "output_type": "stream",
          "name": "stdout",
          "text": [
            "Ingrese cuántos números de la serie Fibonacci desea generar: 9\n",
            "Serie de Fibonacci: [0, 1, 1, 2, 3, 5, 8, 13, 21]\n"
          ]
        }
      ]
    },
    {
      "cell_type": "code",
      "source": [
        "#Juego de adivinar el número: Crea un programa que genere un número aleatorio entre 1 y 100, y luego le pida al usuario que adivine el número. El programa debe proporcionar pistas al usuario si el número es mayor o menor que el número objetivo, y seguir solicitando un nuevo intento hasta que el usuario adivine correctamente.\n",
        "import random\n",
        "\n",
        "numero_objetivo = random.randint(1, 100)\n",
        "\n",
        "while True:\n",
        "    intento = int(input(\"Adivina el número (entre 1 y 100): \"))\n",
        "\n",
        "    if intento == numero_objetivo:\n",
        "        print(\"¡Felicidades! ¡Has adivinado el número!\")\n",
        "        break\n",
        "    elif intento < numero_objetivo:\n",
        "        print(\"El número es mayor. Intenta nuevamente.\")\n",
        "    else:\n",
        "        print(\"El número es menor. Intenta nuevamente.\")"
      ],
      "metadata": {
        "id": "lhZ1v_pen75Y",
        "colab": {
          "base_uri": "https://localhost:8080/"
        },
        "outputId": "e68f028b-3602-4922-be4c-9c0d1f65dfe3"
      },
      "execution_count": 6,
      "outputs": [
        {
          "output_type": "stream",
          "name": "stdout",
          "text": [
            "Adivina el número (entre 1 y 100): 50\n",
            "El número es mayor. Intenta nuevamente.\n",
            "Adivina el número (entre 1 y 100): 70\n",
            "El número es menor. Intenta nuevamente.\n",
            "Adivina el número (entre 1 y 100): 60\n",
            "El número es mayor. Intenta nuevamente.\n",
            "Adivina el número (entre 1 y 100): 65\n",
            "El número es mayor. Intenta nuevamente.\n",
            "Adivina el número (entre 1 y 100): 67\n",
            "El número es menor. Intenta nuevamente.\n",
            "Adivina el número (entre 1 y 100): 66\n",
            "¡Felicidades! ¡Has adivinado el número!\n"
          ]
        }
      ]
    },
    {
      "cell_type": "code",
      "source": [
        "#Ejercicio de cálculo de números primos en un rango dado: Escribe un programa que solicite al usuario un rango de números y muestre todos los números primos dentro de ese rango.\n",
        "def es_primo(num):\n",
        "    if num < 2:\n",
        "        return False\n",
        "    for i in range(2, int(num**0.5) + 1):\n",
        "        if num % i == 0:\n",
        "            return False\n",
        "    return True\n",
        "\n",
        "rango_inicio = int(input(\"Ingrese el inicio del rango: \"))\n",
        "rango_fin = int(input(\"Ingrese el fin del rango: \"))\n",
        "\n",
        "print(f\"Números primos en el rango de {rango_inicio} a {rango_fin}:\")\n",
        "for num in range(rango_inicio, rango_fin + 1):\n",
        "    if es_primo(num):\n",
        "        print(num)"
      ],
      "metadata": {
        "id": "1iOxsA9roVFY",
        "colab": {
          "base_uri": "https://localhost:8080/"
        },
        "outputId": "c993ddf4-b63d-4ddf-ac68-fdf29001f8d5"
      },
      "execution_count": 7,
      "outputs": [
        {
          "output_type": "stream",
          "name": "stdout",
          "text": [
            "Ingrese el inicio del rango: 2\n",
            "Ingrese el fin del rango: 19\n",
            "Números primos en el rango de 2 a 19:\n",
            "2\n",
            "3\n",
            "5\n",
            "7\n",
            "11\n",
            "13\n",
            "17\n",
            "19\n"
          ]
        }
      ]
    },
    {
      "cell_type": "code",
      "source": [
        "#Ejercicio de implementación de una calculadora básica utilizando funciones: Escribe un programa que solicite al usuario dos números y realice operaciones básicas como suma, resta, multiplicación y división utilizando funciones separadas para cada operación.\n",
        "def suma(a, b):\n",
        "    return a + b\n",
        "\n",
        "def resta(a, b):\n",
        "    return a - b\n",
        "\n",
        "def multiplicacion(a, b):\n",
        "    return a * b\n",
        "\n",
        "def division(a, b):\n",
        "    if b != 0:\n",
        "        return a / b\n",
        "    else:\n",
        "        return \"Error: División por cero\"\n",
        "\n",
        "num1 = float(input(\"Ingrese el primer número: \"))\n",
        "num2 = float(input(\"Ingrese el segundo número: \"))\n",
        "\n",
        "print(\"Suma:\", suma(num1, num2))\n",
        "print(\"Resta:\", resta(num1, num2))\n",
        "print(\"Multiplicación:\", multiplicacion(num1, num2))\n",
        "print(\"División:\", division(num1, num2))"
      ],
      "metadata": {
        "id": "-J0lpNY5opUZ",
        "colab": {
          "base_uri": "https://localhost:8080/"
        },
        "outputId": "6226f0c5-4374-4833-9d0f-71afdcbcecf1"
      },
      "execution_count": 8,
      "outputs": [
        {
          "output_type": "stream",
          "name": "stdout",
          "text": [
            "Ingrese el primer número: 1583\n",
            "Ingrese el segundo número: 273930\n",
            "Suma: 275513.0\n",
            "Resta: -272347.0\n",
            "Multiplicación: 433631190.0\n",
            "División: 0.005778848610959004\n"
          ]
        }
      ]
    }
  ]
}