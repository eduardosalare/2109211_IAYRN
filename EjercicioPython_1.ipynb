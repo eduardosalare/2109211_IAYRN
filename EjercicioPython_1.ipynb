{
  "nbformat": 4,
  "nbformat_minor": 0,
  "metadata": {
    "colab": {
      "provenance": [],
      "authorship_tag": "ABX9TyP3XjNZnHAtfes3kPK+VRKS",
      "include_colab_link": true
    },
    "kernelspec": {
      "name": "python3",
      "display_name": "Python 3"
    },
    "language_info": {
      "name": "python"
    }
  },
  "cells": [
    {
      "cell_type": "markdown",
      "metadata": {
        "id": "view-in-github",
        "colab_type": "text"
      },
      "source": [
        "<a href=\"https://colab.research.google.com/github/eduardosalare/2109211_IAYRN/blob/main/EjercicioPython_1.ipynb\" target=\"_parent\"><img src=\"https://colab.research.google.com/assets/colab-badge.svg\" alt=\"Open In Colab\"/></a>"
      ]
    },
    {
      "cell_type": "markdown",
      "source": [
        "Actividad 2: Diseño de algoritmos en Python\n",
        "\n",
        "José Eduardo Salazar Arellano\n",
        "\n",
        "2109211\n",
        "\n",
        "Grupo:006   Hora: jueves N4-N6"
      ],
      "metadata": {
        "id": "5Na3_iQulWaa"
      }
    },
    {
      "cell_type": "code",
      "source": [
        "#Desarrolla un algoritmo que le pida al usuario por su nombre y que lo salude con su nombre, excepto si se llama “Ana”, “Juan”, y “Pedro”.\n",
        "nombre = input(\"Ingrese su nombre: \")\n",
        "\n",
        "if nombre.lower() in ['ana', 'juan', 'pedro']:\n",
        "    print(\"Hola, persona especial!\")\n",
        "else:\n",
        "    print(f\"Hola, {nombre}!\")\n",
        ""
      ],
      "metadata": {
        "id": "DmJOaP8OmY-r"
      },
      "execution_count": null,
      "outputs": []
    },
    {
      "cell_type": "code",
      "source": [
        "#Desarrolla un algoritmo que por medio de una función, le pida al usuario una lista de N elementos y como resultado invierta el sentido de la lista.\n",
        "def invertir_lista():\n",
        "    n = int(input(\"Ingrese la cantidad de elementos en la lista: \"))\n",
        "    lista = []\n",
        "\n",
        "    for i in range(n):\n",
        "        elemento = input(f\"Ingrese el elemento {i+1}: \")\n",
        "        lista.append(elemento)\n",
        "\n",
        "    lista_invertida = lista[::-1]\n",
        "    return lista_invertida\n",
        "\n",
        "resultado = invertir_lista()\n",
        "print(\"Lista original:\", resultado)"
      ],
      "metadata": {
        "id": "VfmuzFgfnCTP"
      },
      "execution_count": null,
      "outputs": []
    },
    {
      "cell_type": "code",
      "source": [
        "#Desarrolla un algoritmo que le pregunte al usuario cuántos números de la serie de Fibonacci quiere generar y que al final los imprima.\n",
        "def generar_fibonacci(n):\n",
        "    fibonacci = [0, 1]\n",
        "\n",
        "    for i in range(2, n):\n",
        "        fibonacci.append(fibonacci[i-1] + fibonacci[i-2])\n",
        "\n",
        "    return fibonacci\n",
        "\n",
        "cantidad = int(input(\"Ingrese cuántos números de la serie Fibonacci desea generar: \"))\n",
        "resultado_fibonacci = generar_fibonacci(cantidad)\n",
        "print(\"Serie de Fibonacci:\", resultado_fibonacci)"
      ],
      "metadata": {
        "id": "akaoJOYpnj_z"
      },
      "execution_count": null,
      "outputs": []
    },
    {
      "cell_type": "code",
      "source": [
        "#Juego de adivinar el número: Crea un programa que genere un número aleatorio entre 1 y 100, y luego le pida al usuario que adivine el número. El programa debe proporcionar pistas al usuario si el número es mayor o menor que el número objetivo, y seguir solicitando un nuevo intento hasta que el usuario adivine correctamente.\n",
        "import random\n",
        "\n",
        "numero_objetivo = random.randint(1, 100)\n",
        "\n",
        "while True:\n",
        "    intento = int(input(\"Adivina el número (entre 1 y 100): \"))\n",
        "\n",
        "    if intento == numero_objetivo:\n",
        "        print(\"¡Felicidades! ¡Has adivinado el número!\")\n",
        "        break\n",
        "    elif intento < numero_objetivo:\n",
        "        print(\"El número es mayor. Intenta nuevamente.\")\n",
        "    else:\n",
        "        print(\"El número es menor. Intenta nuevamente.\")/"
      ],
      "metadata": {
        "id": "lhZ1v_pen75Y"
      },
      "execution_count": null,
      "outputs": []
    },
    {
      "cell_type": "code",
      "source": [
        "#Ejercicio de cálculo de números primos en un rango dado: Escribe un programa que solicite al usuario un rango de números y muestre todos los números primos dentro de ese rango.\n",
        "def es_primo(num):\n",
        "    if num < 2:\n",
        "        return False\n",
        "    for i in range(2, int(num**0.5) + 1):\n",
        "        if num % i == 0:\n",
        "            return False\n",
        "    return True\n",
        "\n",
        "rango_inicio = int(input(\"Ingrese el inicio del rango: \"))\n",
        "rango_fin = int(input(\"Ingrese el fin del rango: \"))\n",
        "\n",
        "print(f\"Números primos en el rango de {rango_inicio} a {rango_fin}:\")\n",
        "for num in range(rango_inicio, rango_fin + 1):\n",
        "    if es_primo(num):\n",
        "        print(num)"
      ],
      "metadata": {
        "id": "1iOxsA9roVFY"
      },
      "execution_count": null,
      "outputs": []
    },
    {
      "cell_type": "code",
      "source": [
        "#Ejercicio de implementación de una calculadora básica utilizando funciones: Escribe un programa que solicite al usuario dos números y realice operaciones básicas como suma, resta, multiplicación y división utilizando funciones separadas para cada operación.\n",
        "def suma(a, b):\n",
        "    return a + b\n",
        "\n",
        "def resta(a, b):\n",
        "    return a - b\n",
        "\n",
        "def multiplicacion(a, b):\n",
        "    return a * b\n",
        "\n",
        "def division(a, b):\n",
        "    if b != 0:\n",
        "        return a / b\n",
        "    else:\n",
        "        return \"Error: División por cero\"\n",
        "\n",
        "num1 = float(input(\"Ingrese el primer número: \"))\n",
        "num2 = float(input(\"Ingrese el segundo número: \"))\n",
        "\n",
        "print(\"Suma:\", suma(num1, num2))\n",
        "print(\"Resta:\", resta(num1, num2))\n",
        "print(\"Multiplicación:\", multiplicacion(num1, num2))\n",
        "print(\"División:\", division(num1, num2))"
      ],
      "metadata": {
        "id": "-J0lpNY5opUZ"
      },
      "execution_count": null,
      "outputs": []
    }
  ]
}